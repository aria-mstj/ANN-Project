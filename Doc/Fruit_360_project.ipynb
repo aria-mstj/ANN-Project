{
  "nbformat": 4,
  "nbformat_minor": 0,
  "metadata": {
    "colab": {
      "name": "Fruit-360 project",
      "provenance": [],
      "collapsed_sections": []
    },
    "kernelspec": {
      "name": "python3",
      "display_name": "Python 3"
    },
    "language_info": {
      "name": "python"
    }
  },
  "cells": [
    {
      "cell_type": "markdown",
      "metadata": {
        "id": "zEG3SPkhNSZZ"
      },
      "source": [
        "# 1- Reading from dataset\n",
        "First of all, we'll need a dataset to train our model but before adding that, we should add numpy library to our project. \\\\\n",
        "\n"
      ]
    },
    {
      "cell_type": "code",
      "metadata": {
        "id": "7iRARdVdZ9fW"
      },
      "source": [
        "import numpy as np"
      ],
      "execution_count": 3,
      "outputs": []
    },
    {
      "cell_type": "markdown",
      "metadata": {
        "id": "WdsoUzG8NRO7"
      },
      "source": [
        "In this project, I used Fruit-360 dataset which you can find [here](https://www.kaggle.com/moltean/fruits). To facilitate the work, only 4 types of fruit have been used in this project.\\\\ \n",
        "In our dataset, each class has about 491 pictures in 100 * 100 dimensions.Therefore, if we want to directly add image pixels to our neural network, our input layer will have 10000 neurons, which makes the network very heavy.For solving this problem 360 features have been extracted using feature extraction techniques.Then, using feature vector size reduction techniques, this size is reduced to 102, which we consider as the input of the neural network. Knowing that our model should eventually recognize one of four models of fruit, our output layer has 4 neurons that represents the predicted fruit. Our model also has two hidden layers, first with 150 neurons and second with 60 neurons.I used sigmoid function as activation function of all layers.\n",
        "Our model structure looks like this :\n",
        "![picture](https://drive.google.com/uc?export=view&id=1dws_Rl93GR5eHVx9f3Ma5nfT_dWzS2mg)\n",
        "\n",
        "Our main idea is to work with train data and to evaluate it with test data.In each of our iterations we divide our data into mini batches, calculate the gradient of each batch, calculate its average and add then, apply changes. This approach results in lower computational complexity in each iteration and reduce total computation time.\\\\ \n",
        "For reading dataset, four datasets have been prepared, train_set_features.pkl, test_set_features.pkl, train_set_labels.pkl an test_set_labels.pkl. For reading datasets and reducing dimensions,\n",
        "we construct two functions named ```get_testset``` and ```get_trainset```.\n",
        "\n",
        "\n"
      ]
    },
    {
      "cell_type": "code",
      "metadata": {
        "id": "Hh7ETmDnUXlS"
      },
      "source": [
        "import numpy as np\n",
        "import random\n",
        "import pickle\n",
        "\n",
        "\n",
        "def get_trainset():\n",
        "    f = open(\"train_set_features.pkl\", \"rb\")\n",
        "    train_set_features2 = pickle.load(f)\n",
        "    f.close()\n",
        "\n",
        "    # reducing feature vector length\n",
        "    features_STDs = np.std(a=train_set_features2, axis=0)\n",
        "    train_set_features = train_set_features2[:, features_STDs > 52.3]\n",
        "\n",
        "    # changing the range of data between 0 and 1\n",
        "    train_set_features = np.divide(train_set_features, train_set_features.max())\n",
        "\n",
        "    # loading training set labels\n",
        "    f = open(\"train_set_labels.pkl\", \"rb\")\n",
        "    train_set_labels = pickle.load(f)\n",
        "    f.close()\n",
        "\n",
        "\n",
        "    train_set = []\n",
        "\n",
        "    for i in range(len(train_set_features)):\n",
        "        label = np.array([0, 0, 0, 0])\n",
        "        label[int(train_set_labels[i])] = 1\n",
        "        label = label.reshape(4, 1)\n",
        "        train_set.append((train_set_features[i].reshape(102, 1), label))\n",
        "\n",
        "    random.shuffle(train_set)\n",
        "\n",
        "    return train_set\n",
        "\n",
        "def get_testset():\n",
        "\n",
        "    # loading test set features\n",
        "    f = open(\"test_set_features.pkl\", \"rb\")\n",
        "    test_set_features2 = pickle.load(f)\n",
        "    f.close()\n",
        "\n",
        "    # reducing feature vector length\n",
        "    features_STDs = np.std(a=test_set_features2, axis=0)\n",
        "    test_set_features = test_set_features2[:, features_STDs > 48]\n",
        "\n",
        "    # changing the range of data between 0 and 1\n",
        "    test_set_features = np.divide(test_set_features, test_set_features.max())\n",
        "\n",
        "    # loading test set labels\n",
        "    f = open(\"test_set_labels.pkl\", \"rb\")\n",
        "    test_set_labels = pickle.load(f)\n",
        "    f.close()\n",
        "\n",
        "    # ------------\n",
        "    test_set = []\n",
        "\n",
        "    for i in range(len(test_set_features)):\n",
        "        label = np.array([0, 0, 0, 0])\n",
        "        label[int(test_set_labels[i])] = 1\n",
        "        label = label.reshape(4, 1)\n",
        "        test_set.append((test_set_features[i].reshape(102, 1), label))\n",
        "\n",
        "    # shuffle\n",
        "    random.shuffle(test_set)\n",
        "\n",
        "    # print(len(test_set)) #662\n",
        "    return test_set\n"
      ],
      "execution_count": 7,
      "outputs": []
    },
    {
      "cell_type": "markdown",
      "metadata": {
        "id": "7xnuf_7zceCt"
      },
      "source": [
        "Adding local files to google colab.\n",
        "You can find these files on git repository."
      ]
    },
    {
      "cell_type": "code",
      "metadata": {
        "colab": {
          "resources": {
            "http://localhost:8080/nbextensions/google.colab/files.js": {
              "data": "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",
              "ok": true,
              "headers": [
                [
                  "content-type",
                  "application/javascript"
                ]
              ],
              "status": 200,
              "status_text": ""
            }
          },
          "base_uri": "https://localhost:8080/",
          "height": 174
        },
        "id": "EhbJFIiAbFRq",
        "outputId": "9a8ac1a1-c5ed-4f56-bf48-af1b36cacef7"
      },
      "source": [
        "from google.colab import files\n",
        "uploaded = files.upload()"
      ],
      "execution_count": 6,
      "outputs": [
        {
          "output_type": "display_data",
          "data": {
            "text/html": [
              "\n",
              "     <input type=\"file\" id=\"files-2f789ca4-7e60-4c93-922b-bcb09d1f821f\" name=\"files[]\" multiple disabled\n",
              "        style=\"border:none\" />\n",
              "     <output id=\"result-2f789ca4-7e60-4c93-922b-bcb09d1f821f\">\n",
              "      Upload widget is only available when the cell has been executed in the\n",
              "      current browser session. Please rerun this cell to enable.\n",
              "      </output>\n",
              "      <script src=\"/nbextensions/google.colab/files.js\"></script> "
            ],
            "text/plain": [
              "<IPython.core.display.HTML object>"
            ]
          },
          "metadata": {}
        },
        {
          "output_type": "stream",
          "name": "stdout",
          "text": [
            "Saving test_set_features.pkl to test_set_features (1).pkl\n",
            "Saving test_set_labels.pkl to test_set_labels (1).pkl\n",
            "Saving train_set_features.pkl to train_set_features (1).pkl\n",
            "Saving train_set_labels.pkl to train_set_labels (1).pkl\n"
          ]
        }
      ]
    },
    {
      "cell_type": "markdown",
      "metadata": {
        "id": "wFIrXokYcm5y"
      },
      "source": [
        "Calling our train function to make sure it works fine."
      ]
    },
    {
      "cell_type": "code",
      "metadata": {
        "colab": {
          "base_uri": "https://localhost:8080/"
        },
        "id": "6uYmCpBfcmml",
        "outputId": "e38aedd8-6607-4405-e6da-06e9a85922d2"
      },
      "source": [
        "train_set = np.array(get_trainset())\n",
        "train_set.shape"
      ],
      "execution_count": 15,
      "outputs": [
        {
          "output_type": "stream",
          "name": "stderr",
          "text": [
            "/usr/local/lib/python3.7/dist-packages/ipykernel_launcher.py:1: VisibleDeprecationWarning: Creating an ndarray from ragged nested sequences (which is a list-or-tuple of lists-or-tuples-or ndarrays with different lengths or shapes) is deprecated. If you meant to do this, you must specify 'dtype=object' when creating the ndarray\n",
            "  \"\"\"Entry point for launching an IPython kernel.\n"
          ]
        },
        {
          "output_type": "execute_result",
          "data": {
            "text/plain": [
              "(1962, 2)"
            ]
          },
          "metadata": {},
          "execution_count": 15
        }
      ]
    },
    {
      "cell_type": "markdown",
      "metadata": {
        "id": "l7NftatIdbbu"
      },
      "source": [
        "First five features of first picture."
      ]
    },
    {
      "cell_type": "code",
      "metadata": {
        "colab": {
          "base_uri": "https://localhost:8080/"
        },
        "id": "aKdEAxEua_EY",
        "outputId": "fc3673ee-e04b-4914-dff6-2342e3fbf8e6"
      },
      "source": [
        "train_set[0][0][:5]"
      ],
      "execution_count": 16,
      "outputs": [
        {
          "output_type": "execute_result",
          "data": {
            "text/plain": [
              "array([[0.63082213],\n",
              "       [0.        ],\n",
              "       [0.        ],\n",
              "       [0.        ],\n",
              "       [0.        ]])"
            ]
          },
          "metadata": {},
          "execution_count": 16
        }
      ]
    },
    {
      "cell_type": "markdown",
      "metadata": {
        "id": "GJQxCvXSdoHf"
      },
      "source": [
        "# 2- Feed forward\n",
        "In order to calculate the output of a neural network, each layers output is calculated based on following formula : \\\\\n",
        "\n",
        "<center> $a ^ {(L+1)} = \\sigma (W^{L+1} \\times a^L + b^{L+1})$ \n",
        "\n",
        "<p align = left> Therefore, for weight and biases between layers we assign matrix. Weigth matrixes are shown with W_k, where k is the number of layer, and biases with b_k."
      ]
    },
    {
      "cell_type": "code",
      "metadata": {
        "id": "A03N8kAydQwY"
      },
      "source": [
        "feature_count = len(train_set[0][0])\n",
        "\n",
        "first_layer_neurons = 150\n",
        "second_layer_neurons = 60\n",
        "output_neurons = len(train_set[0][1])\n",
        "\n",
        "W_1 = np.random.randn(first_layer_neurons * feature_count).reshape(first_layer_neurons, feature_count)\n",
        "b_1 = np.zeros((first_layer_neurons, 1))\n",
        "\n",
        "W_2 = np.random.randn(second_layer_neurons * first_layer_neurons).reshape(second_layer_neurons, first_layer_neurons)\n",
        "b_2 = np.zeros((second_layer_neurons, 1))\n",
        "\n",
        "W_3 = np.random.randn(output_neurons * second_layer_neurons).reshape(output_neurons, second_layer_neurons)\n",
        "b_3 = np.zeros((output_neurons, 1))\n"
      ],
      "execution_count": 45,
      "outputs": []
    },
    {
      "cell_type": "code",
      "metadata": {
        "id": "hUfn3KZKhlTn"
      },
      "source": [
        "def sigmoid(x):\n",
        "   return 1 / (1 + np.exp(-x))"
      ],
      "execution_count": 46,
      "outputs": []
    },
    {
      "cell_type": "markdown",
      "metadata": {
        "id": "SjJOrx8rhgGm"
      },
      "source": [
        "After initializing weights and biases and defining sigmoid function, we seperate first 200 images of our train dataset, and then calculate the output based in the formula.\n",
        "\n",
        "For calculating the accuracy of our model, we compare the calculated output with label. We expect a mean of 25% accuracy because we assigned weight randomly and we have 4 different labels."
      ]
    },
    {
      "cell_type": "code",
      "metadata": {
        "colab": {
          "base_uri": "https://localhost:8080/"
        },
        "id": "gyGKJxWNpPIR",
        "outputId": "8d8e61cc-97e4-4450-a5a1-0314670bb653"
      },
      "source": [
        "X = [i[0] for i in train_set[:200]]\n",
        "Y = [i[1] for i in train_set[:200]]\n",
        "# print(len(Y[0]))\n",
        "corrects = 0\n",
        "for i, x in enumerate(X):\n",
        "    # x = np.array(x)\n",
        "    # print(x.shape)\n",
        "    # print(W_1.shape)\n",
        "    A1 = sigmoid(W_1 @ x + b_1)\n",
        "    A2 = sigmoid(W_2 @ A1 + b_2)\n",
        "    out = sigmoid(W_3 @ A2 + b_3)\n",
        "    answer = list(out).index(max(out))\n",
        "    # print(answer)\n",
        "    # print(out)\n",
        "    if answer == list(Y[i]).index(1):\n",
        "        corrects += 1\n",
        "    # print(out)\n",
        "\n",
        "accuracy = (corrects / 200) * 100\n",
        "print(accuracy)"
      ],
      "execution_count": 47,
      "outputs": [
        {
          "output_type": "stream",
          "name": "stdout",
          "text": [
            "23.0\n"
          ]
        }
      ]
    },
    {
      "cell_type": "markdown",
      "metadata": {
        "id": "JNmtbjAvp8Qe"
      },
      "source": [
        "# 3- Backpropagation\n",
        "One of our main goals during the learning process is to minimize the cost function.\n",
        "\n",
        "<center> $Cost = \\sum_{j=0}^{n_L-1}(a_j^L - y_j) ^ 2$\n",
        "\n",
        "<p align = left> In order to minimize the cost function, we use gradient descent, that means taking partial derivative of cost function for all variables.\n",
        "\n",
        "<center> $ (W, b) = (W, b) - \\alpha \\triangle Cost$\n",
        "<p align = left> We take derivatives with help of backpropagation.\n"
      ]
    },
    {
      "cell_type": "code",
      "metadata": {
        "id": "qnba_pMdpiRR"
      },
      "source": [
        "import math\n",
        "import numpy as np\n",
        "import matplotlib.pyplot as plt\n"
      ],
      "execution_count": 20,
      "outputs": []
    },
    {
      "cell_type": "code",
      "metadata": {
        "id": "MMlzDuCssb3D"
      },
      "source": [
        "def sig_pr(x):\n",
        "    return np.exp(-x) / ((1 + np.exp(-x)) ** 2)"
      ],
      "execution_count": 21,
      "outputs": []
    },
    {
      "cell_type": "code",
      "metadata": {
        "id": "WuoDqa0tsdIg"
      },
      "source": [
        "train_set = get_trainset()\n",
        "test_set = get_testset()\n",
        "Xt = [i[0] for i in test_set]\n",
        "Yt = [i[1] for i in test_set]\n",
        "\n",
        "pics_count = 491\n",
        "train_set = train_set[:200]\n",
        "X = [i[0] for i in train_set]\n",
        "Y = [i[1] for i in train_set]\n",
        "feature_count = len(X[0])\n",
        "\n",
        "W_1 = np.random.randn(150 * feature_count).reshape(150, feature_count)\n",
        "b_1 = np.zeros((150, 1))\n",
        "\n",
        "W_2 = np.random.randn(60 * 150).reshape(60, 150)\n",
        "b_2 = np.zeros((60, 1))\n",
        "\n",
        "W_3 = np.random.randn(4 * 60).reshape(4, 60)\n",
        "b_3 = np.zeros((4, 1))"
      ],
      "execution_count": 30,
      "outputs": []
    },
    {
      "cell_type": "code",
      "metadata": {
        "id": "jHKZnIPEsij0"
      },
      "source": [
        "corrects = 0\n",
        "batch_size = 10\n",
        "epochs = 5\n",
        "learning_rate = 1\n",
        "total_costs = []"
      ],
      "execution_count": 36,
      "outputs": []
    },
    {
      "cell_type": "markdown",
      "metadata": {
        "id": "kSZ22lzPs2mY"
      },
      "source": [
        "Knowing we have four layers(one input layer, one output layer, two hidden layers), we should calculate derivatives as shown below:\n",
        "\n",
        "We define cost, $a_j$ and $z_j$ as follows.\n",
        "\n",
        "<center> $Cost = \\sum_{j=0}^{3}(a_j^L - y_j) ^ 2$\n",
        "\n",
        "$z_j^{(3)} = \\sum_{j=0}^{3} w_{jk}^{(3)} a_k ^{2} + b_j^{(2)}$\n",
        "\n",
        "$a_j^{(3)} = \\sigma(z_j^{(3)})$\n",
        "\n",
        "\n",
        "<p align = \"left\"> For weight and bias we apply derivative chain rule. \n",
        "</p>\n",
        "\n",
        "<center> $\\frac{\\partial Cost}{\\partial w_{jk}^{(3)}} = \\frac{\\partial Cost}{\\partial a_j^{(3)}} \\times \\frac{\\partial a_j^{(3)}}{\\partial z_j^{(3)}} \\times \\frac{\\partial z_j^{(3)}}{\\partial w_{jk}^{(3)}} = 2(a_j^{(3)} - y_j) \\times \\sigma^{'}(z_j^{(3)}) \\times a_k^{(2)}$\n",
        "\n",
        "\n",
        "<center> $\\frac{\\partial Cost}{\\partial b_{j}^{(3)}} = \\frac{\\partial Cost}{\\partial a_j^{(3)}} \\times \\frac{\\partial a_j^{(3)}}{\\partial z_j^{(3)}} \\times \\frac{\\partial z_j^{(3)}}{\\partial b_{j}^{(3)}} = 2(a_j^{(3)} - y_j) \\times \\sigma^{'}(z_j^{(3)}) \\times 1$\n",
        "\n",
        "<center> $\\frac{\\partial Cost}{\\partial a_{k}^{(2)}} = \\sum_{j=0}^{59}\\frac{\\partial Cost}{\\partial a_j^{(3)}} \\times \\frac{\\partial a_j^{(3)}}{\\partial z_j^{(3)}} \\times \\frac{\\partial z_j^{(3)}}{\\partial a_{k}^{(2)}} = \\sum_{j=0}^{59}(2(a_j^{(3)} - y_j) \\times \\sigma^{'}(z_j^{(3)}) \\times w_{jk}^{(3)})$\n",
        "\n",
        "\n",
        "\n",
        "<center> $\\frac{\\partial Cost}{\\partial w_{km}^{(2)}} = \\frac{\\partial Cost}{\\partial a_k^{(2)}} \\times \\frac{\\partial a_k^{(2)}}{\\partial z_k^{(2)}} \\times \\frac{\\partial z_k^{(2)}}{\\partial w_{km}^{(2)}} = \\frac{\\partial Cost}{\\partial a_k^{(2)}} \\times \\sigma^{'}(z_k^{(2)}) \\times a_m^{(1)}$\n",
        "\n",
        "<center> $\\frac{\\partial Cost}{\\partial b_{k}^{(2)}} = \\frac{\\partial Cost}{\\partial a_k^{(2)}} \\times \\frac{\\partial a_k^{(2)}}{\\partial z_k^{(2)}} \\times \\frac{\\partial z_k^{(2)}}{\\partial b_{k}^{(2)}} = \\frac{\\partial Cost}{\\partial a_k^{(2)}} \\times \\sigma^{'}(z_k^{(2)}) \\times 1$\n",
        "\n",
        "<center> $\\frac{\\partial Cost}{\\partial a_{m}^{(1)}} = \\sum_{j=0}^{149}\\frac{\\partial Cost}{\\partial a_k^{(2)}} \\times \\frac{\\partial a_k^{(2)}}{\\partial z_k^{(2)}} \\times \\frac{\\partial z_k^{(2)}}{\\partial a_{m}^{(1)}} = \\sum_{j=0}^{149} (\\frac{\\partial Cost}{\\partial a_k^{(2)}} \\times \\sigma^{'}(z_k^{(2)}) \\times w_{km}^{(2)})$\n",
        "\n",
        "<center> $\\frac{\\partial Cost}{\\partial w_{mv}^{(1)}} = \\frac{\\partial Cost}{\\partial a_m^{(1)}} \\times \\frac{\\partial a_m^{(1)}}{\\partial z_m^{(1)}} \\times \\frac{\\partial z_m^{(1)}}{\\partial w_{mv}^{(1)}} = \\frac{\\partial Cost}{\\partial a_m^{(1)}} \\times \\sigma^{'}(z_m^{(1)}) \\times a_v^{(0)}$\n",
        "\n",
        "<center> $\\frac{\\partial Cost}{\\partial b_{m}^{(1)}} = \\frac{\\partial Cost}{\\partial a_m^{(1)}} \\times \\frac{\\partial a_m^{(1)}}{\\partial z_m^{(1)}} \\times \\frac{\\partial z_m^{(1)}}{\\partial b_{m}^{(1)}} = \\frac{\\partial Cost}{\\partial a_m^{(1)}} \\times \\sigma^{'}(z_m^{(1)}) \\times 1$\n"
      ]
    },
    {
      "cell_type": "code",
      "metadata": {
        "colab": {
          "base_uri": "https://localhost:8080/"
        },
        "id": "-apudBmWsqE8",
        "outputId": "3e8c1247-3162-48d1-b327-c1a6aa0cd7c8"
      },
      "source": [
        "for epoch in range(epochs):\n",
        "    batches = []\n",
        "    print(\"EPOCHS : \", epoch)\n",
        "    for x in range(0, len(X), batch_size):\n",
        "        batches.append(train_set[x:x+batch_size])\n",
        "    for i, batch in enumerate(batches):\n",
        "        # print(f\"number of batch {i}\")\n",
        "        grad_w1 = np.zeros((150, feature_count))\n",
        "        grad_w2 = np.zeros((60, 150))\n",
        "        grad_w3 = np.zeros((4, 60))\n",
        "\n",
        "        grad_b1 = np.zeros((150, 1))\n",
        "        grad_b2 = np.zeros((60, 1))\n",
        "        grad_b3 = np.zeros((4, 1))\n",
        "\n",
        "        for x, y in batch:\n",
        "            A1 = sigmoid(W_1 @ x + b_1)\n",
        "            A2 = sigmoid(W_2 @ A1 + b_2)\n",
        "            out = sigmoid(W_3 @ A2 + b_3)\n",
        "\n",
        "            for j in range(grad_w3.shape[0]):\n",
        "                for k in range(grad_w3.shape[1]):\n",
        "                    grad_w3[j, k] += 2 * (out[j, 0] - y[j, 0]) * out[j, 0] * (1 - out[j, 0]) * A2[k, 0]\n",
        "\n",
        "            for j in range(grad_w3.shape[0]):\n",
        "                grad_b3[j, 0] += 2 * (out[j, 0] - y[j, 0]) * out[j, 0] * (1 - out[j, 0])\n",
        "\n",
        "            delta_3 = np.zeros((grad_w3.shape[1], 1))\n",
        "            for k in range(grad_w3.shape[1]):\n",
        "                for j in range(grad_w3.shape[0]):\n",
        "                    delta_3[k, 0] += 2 * (out[j, 0] - y[j, 0]) * out[j, 0] * (1 - out[j, 0]) * W_3[j, k]\n",
        "\n",
        "            for k in range(grad_w2.shape[0]):\n",
        "                for m in range(grad_w2.shape[1]):\n",
        "                    # print(type(delta_3))\n",
        "                    grad_w2[k, m] += delta_3[k, 0] * A2[k, 0] * (1 - A2[k, 0]) * A1[m, 0]\n",
        "\n",
        "            for k in range(grad_w2.shape[0]):\n",
        "                grad_b2[k, 0] += delta_3[k, 0] * A2[k, 0] * (1- A2[k, 0])\n",
        "\n",
        "            delta_2 = np.zeros((grad_w2.shape[1], 1))\n",
        "            for m in range(grad_w2.shape[1]):\n",
        "                for k in range(grad_w2.shape[0]):\n",
        "                    delta_2[m, 0] += delta_3[k, 0] * A2[k, 0] * (1 - A2[k, 0]) * W_2[k, m]\n",
        "\n",
        "            for m in range(grad_w1.shape[0]):\n",
        "                for v in range(grad_w1.shape[1]):\n",
        "                    grad_w1[m, v] += delta_2[m, 0] * A1[m, 0] * (1 - A1[m, 0]) * x[v, 0]\n",
        "\n",
        "            for m in range(grad_w1.shape[0]):\n",
        "                grad_b1[m, 0] += delta_2[m, 0] * A1[m, 0] * (1 - A1[m, 0])\n",
        "\n",
        "        # print(grad_w3)\n",
        "        W_3 = W_3 - (learning_rate * (grad_w3 / batch_size))\n",
        "        W_2 = W_2 - (learning_rate * (grad_w2 / batch_size))\n",
        "        W_1 = W_1 - (learning_rate * (grad_w1 / batch_size))\n",
        "\n",
        "        b_3 = b_3 - (learning_rate * (grad_b3 / batch_size))\n",
        "        b_2 = b_2 - (learning_rate * (grad_b2 / batch_size))\n",
        "        b_1 = b_1 - (learning_rate * (grad_b1 / batch_size))\n",
        "\n",
        "    cost = 0\n",
        "    for train_data in train_set:\n",
        "        a0 = train_data[0]\n",
        "        a1 = sigmoid(W_1 @ a0 + b_1)\n",
        "        a2 = sigmoid(W_2 @ a1 + b_2)\n",
        "        a3 = sigmoid(W_3 @ a2 + b_3)\n",
        "\n",
        "        for j in range(4):\n",
        "            cost += np.power((a3[j, 0] - train_data[1][j, 0]), 2)\n",
        "\n",
        "    print(cost)\n",
        "    cost /= 100\n",
        "    total_costs.append(cost)\n"
      ],
      "execution_count": 37,
      "outputs": [
        {
          "output_type": "stream",
          "name": "stdout",
          "text": [
            "EPOCHS :  0\n",
            "228.072669577029\n",
            "EPOCHS :  1\n",
            "186.08422480982878\n",
            "EPOCHS :  2\n",
            "58.305654864043596\n",
            "EPOCHS :  3\n",
            "18.902652986284277\n",
            "EPOCHS :  4\n",
            "14.03246537479083\n"
          ]
        }
      ]
    },
    {
      "cell_type": "code",
      "metadata": {
        "colab": {
          "base_uri": "https://localhost:8080/",
          "height": 265
        },
        "id": "GjKV_mo9fhZu",
        "outputId": "9f8caace-7dee-4623-e1bd-fb10ba5c742f"
      },
      "source": [
        "epoch_size = [x for x in range(epochs)]\n",
        "plt.plot(epoch_size, total_costs)\n",
        "plt.savefig('5_epoch_backpropagation.png')\n",
        "plt.show()"
      ],
      "execution_count": 38,
      "outputs": [
        {
          "output_type": "display_data",
          "data": {
            "image/png": "[encoded data removed]",
            "text/plain": [
              "<Figure size 432x288 with 1 Axes>"
            ]
          },
          "metadata": {
            "needs_background": "light"
          }
        }
      ]
    },
    {
      "cell_type": "code",
      "metadata": {
        "colab": {
          "base_uri": "https://localhost:8080/"
        },
        "id": "IWJA6uZJhH8r",
        "outputId": "6d433b61-9da6-4d34-d13e-d7713771027b"
      },
      "source": [
        "corrects = 0\n",
        "\n",
        "for i, test_data in enumerate(Xt):\n",
        "    a0 = test_data\n",
        "    a1 = sigmoid(W_1 @ a0 + b_1)\n",
        "    a2 = sigmoid(W_2 @ a1 + b_2)\n",
        "    a3 = sigmoid(W_3 @ a2 + b_3)\n",
        "    # print(f\"TEST : {Yt[i]}, PREDICT : {a3}\")\n",
        "\n",
        "    predicted_number = list(a3).index(max(a3))\n",
        "    real_number = list(Yt[i]).index(1)\n",
        "\n",
        "    if predicted_number == real_number:\n",
        "        corrects += 1\n",
        "accuracy = corrects / len(Xt)\n",
        "print(\"Accuracy = \", accuracy)"
      ],
      "execution_count": 39,
      "outputs": [
        {
          "output_type": "stream",
          "name": "stdout",
          "text": [
            "Accuracy =  0.9969788519637462\n"
          ]
        }
      ]
    },
    {
      "cell_type": "markdown",
      "metadata": {
        "id": "sBb20okzjMQt"
      },
      "source": [
        "# 4- Vectorization\n",
        "For the reason of long execution time, until now we have worked with first 200 pics and runed our code for only 5 epochs. For solving this problem we can use vectorization instead of for loops.\n",
        "\n",
        "As a result, the processing time would be reduced significantly.The explanation for this is that matrix operations can run in parallel on multi-core CPUs. Furthermore, today's processors have instructions for working with large vector data, which will be much more effective.\n",
        "\n",
        "\n",
        "---\n",
        "In vectorized notation, we define cost, $a_j$ and $z_j$ as follows.\n",
        "\n",
        "<center> $Cost = (\\overrightarrow{a^{(3)}} - \\overrightarrow{y}) ^ T$\n",
        "\n",
        "<center> $\\overrightarrow{a}^{(3)} = \\sigma(\\overrightarrow{z}^{(3)})$\n",
        "\n",
        "<center> $\\overrightarrow{z}^{(3)} = W^{(3)}\\overrightarrow{a}^{(2)} + \\overrightarrow{b}^{(2)}$\n",
        "\n",
        "<p align = \"left\"> For weight and bias we apply derivative chain rule. \n",
        "</p>\n",
        "\n",
        "<center> ${a^{(3)}}^{(')} = a^{(3)}(1 - a^{(3)}) $\n",
        "\n",
        "<center> $\\frac{\\partial Cost}{\\partial W^{(3)}} = 2(\\overrightarrow{a}^{(3)} - \\overrightarrow{y}) \\overrightarrow{a}^{(3)}(1 - \\overrightarrow{a}^{(3)}) \\cdot \\overrightarrow{a}^{(2)}  $ \n",
        "\n",
        "\n",
        "<center> $\\frac{\\partial Cost}{\\partial b^{(3)}} = 2(\\overrightarrow{a}^{(3)} - \\overrightarrow{y}) \\overrightarrow{a}^{(3)}(1 - \\overrightarrow{a}^{(3)}) $\n",
        "\n",
        "\n",
        "<center> $\\frac{\\partial Cost}{\\partial a^{(2)}} = {W^{(3)}}^T (2(\\overrightarrow{a}^{(3)} - \\overrightarrow{y}) \\overrightarrow{a}^{(3)}(1 - \\overrightarrow{a}^{(3)}))  $ \n",
        "\n",
        "<center> $\\frac{\\partial Cost}{\\partial W^{(2)}} = \\frac{\\partial Cost}{\\partial \\overrightarrow{a}^{(2)}} \\overrightarrow{a}^{(2)}(1 - \\overrightarrow{a}^{(2)}) \\cdot \\overrightarrow{a}^{(1)}  $ \n",
        "\n",
        "<center> $\\frac{\\partial Cost}{\\partial b^{(2)}} = \\frac{\\partial Cost}{\\partial \\overrightarrow{a}^{(2)}} \\overrightarrow{a}^{(2)}(1 - \\overrightarrow{a}^{(2)})  $\n",
        "\n",
        "<center> $\\frac{\\partial Cost}{\\partial a^{(1)}} = {W^{(2)}}^T \\frac{\\partial Cost}{\\partial \\overrightarrow{a}^{(2)}} \\overrightarrow{a}^{(2)}(1 - \\overrightarrow{a}^{(2)})$\n",
        "\n",
        "<center> $\\frac{\\partial Cost}{\\partial W^{(1)}} = \\frac{\\partial Cost}{\\partial \\overrightarrow{a}^{(1)}} \\overrightarrow{a}^{(1)}(1 - \\overrightarrow{a}^{(1)}) \\cdot \\overrightarrow{a}^{(0)}  $ \n",
        "\n",
        "<center> $\\frac{\\partial Cost}{\\partial b^{(1)}} = \\frac{\\partial Cost}{\\partial \\overrightarrow{a}^{(1)}} \\overrightarrow{a}^{(1)}(1 - \\overrightarrow{a}^{(1)})  $ \n",
        "\n"
      ]
    },
    {
      "cell_type": "code",
      "metadata": {
        "id": "ar6oBPMbhMju"
      },
      "source": [
        "def sigmoid(x):\n",
        "   return 1 / (1 + np.exp(-x))\n",
        "\n",
        "\n",
        "def sig_pr(x):\n",
        "    s = sigmoid(x)\n",
        "    return s * (1 - s)"
      ],
      "execution_count": 53,
      "outputs": []
    },
    {
      "cell_type": "code",
      "metadata": {
        "id": "ejlgZ2nlqsup"
      },
      "source": [
        "def backpropagation(W_1, W_2, W_3, b_1, b_2, b_3, A1, A2, out, Y, X):\n",
        "    dout = 2 * (out - Y)\n",
        "    \n",
        "    dout_dw3 = sig_pr(W_3 @ A2 + b_3) @ A2.transpose()\n",
        "    d_w3 = np.array(dout * dout_dw3)\n",
        "    d_b3 = dout * sig_pr(W_3 @ A2 + b_3)\n",
        "\n",
        "    dout_da2 = W_3.transpose() @ sig_pr(W_3 @ A2 + b_3)\n",
        "    da2_dw2 = sig_pr(W_2 @ A1 + b_2) @ A1.transpose()\n",
        "    da2 = W_3.transpose() @ (dout * sig_pr(W_3 @ A2 + b_3))\n",
        "\n",
        "\n",
        "    d_w2 = da2 * da2_dw2\n",
        "    d_b2 = da2 * sig_pr(W_2 @ A1 + b_2)\n",
        "\n",
        "    da2_da1 = W_2.transpose() @ sig_pr(W_2 @ A1 + b_2)\n",
        "    da1_dw1 = sig_pr(W_1 @ X + b_1) @ X.transpose()\n",
        "\n",
        "    da1 = W_2.transpose() @ (da2 * sig_pr(W_2 @ A1 + b_2))\n",
        "    d_w1 = da1 * da1_dw1\n",
        "    d_b1 = da1 * sig_pr(W_1 @ X + b_1)\n",
        "\n",
        "    return d_w1, d_w2, d_w3, d_b1, d_b2, d_b3\n"
      ],
      "execution_count": 54,
      "outputs": []
    },
    {
      "cell_type": "code",
      "metadata": {
        "id": "OQ9Br-3pqx7g"
      },
      "source": [
        "pics_count = 491# 100 * 100\n",
        "\n",
        "test_set = get_testset()\n",
        "train_set = get_trainset()\n",
        "\n",
        "feature_count = len(train_set[0][0])\n",
        "\n",
        "first_layer_neurons = 150\n",
        "second_layer_neurons = 60\n",
        "output_neurons = len(train_set[0][1])\n",
        "\n",
        "W_1 = np.random.randn(first_layer_neurons * feature_count).reshape(first_layer_neurons, feature_count)\n",
        "b_1 = np.zeros((first_layer_neurons, 1))\n",
        "\n",
        "W_2 = np.random.randn(second_layer_neurons * first_layer_neurons).reshape(second_layer_neurons, first_layer_neurons)\n",
        "b_2 = np.zeros((second_layer_neurons, 1))\n",
        "\n",
        "W_3 = np.random.randn(output_neurons * second_layer_neurons).reshape(output_neurons, second_layer_neurons)\n",
        "b_3 = np.zeros((output_neurons, 1))\n",
        "\n",
        "# print(len(test_set[0][0]))\n",
        "X = [i[0] for i in train_set]\n",
        "Y = [i[1] for i in train_set]\n",
        "\n",
        "Xt = [i[0] for i in test_set]\n",
        "Yt = [i[1] for i in test_set]\n"
      ],
      "execution_count": 55,
      "outputs": []
    },
    {
      "cell_type": "code",
      "metadata": {
        "id": "z4QLpko2rJhW"
      },
      "source": [
        "batch_size = 10\n",
        "epochs = 20\n",
        "learning_rate = 1\n",
        "total_costs = []"
      ],
      "execution_count": 56,
      "outputs": []
    },
    {
      "cell_type": "code",
      "metadata": {
        "colab": {
          "base_uri": "https://localhost:8080/"
        },
        "id": "6_jsjc47tmH9",
        "outputId": "11339c2d-3d84-41a4-df30-a06605d055e7"
      },
      "source": [
        "for epoch in range(epochs):\n",
        "    batches = []\n",
        "    print(\"EPOCHS : \", epoch)\n",
        "\n",
        "\n",
        "    for x in range(0, len(X), batch_size):\n",
        "        batches.append(train_set[x:x+batch_size])\n",
        "    for i, batch in enumerate(batches):\n",
        "        # print(f\"number of batch {i}\")\n",
        "        grad_w1 = np.zeros((150, feature_count))\n",
        "        grad_w2 = np.zeros((60, 150))\n",
        "        grad_w3 = np.zeros((4, 60))\n",
        "\n",
        "        grad_b1 = np.zeros((150, 1))\n",
        "        grad_b2 = np.zeros((60, 1))\n",
        "        grad_b3 = np.zeros((4, 1))\n",
        "\n",
        "\n",
        "        for x, y in batch:\n",
        "            A1 = sigmoid(W_1 @ x + b_1)\n",
        "            A2 = sigmoid(W_2 @ A1 + b_2)\n",
        "            out = sigmoid(W_3 @ A2 + b_3)\n",
        "            # print(W_3.shape)\n",
        "\n",
        "            gw1, gw2, gw3, gb1, gb2, gb3 = backpropagation(W_1, W_2, W_3, b_1, b_2, b_3, A1, A2, out\n",
        "                                                                                       , y, x)\n",
        "            grad_w1 += gw1\n",
        "            grad_w2 += gw2\n",
        "            grad_w3 += gw3\n",
        "\n",
        "            grad_b1 += gb1\n",
        "            grad_b2 += gb2\n",
        "            grad_b3 += gb3\n",
        "\n",
        "        W_3 = W_3 - (learning_rate * (grad_w3 / batch_size))\n",
        "        W_2 = W_2 - (learning_rate * (grad_w2 / batch_size))\n",
        "        W_1 = W_1 - (learning_rate * (grad_w1 / batch_size))\n",
        "\n",
        "        b_3 = b_3 - (learning_rate * (grad_b3 / batch_size))\n",
        "        b_2 = b_2 - (learning_rate * (grad_b2 / batch_size))\n",
        "        b_1 = b_1 - (learning_rate * (grad_b1 / batch_size))\n",
        "\n",
        "    cost = 0\n",
        "    for train_data in train_set:\n",
        "        a0 = train_data[0]\n",
        "        a1 = sigmoid(W_1 @ a0 + b_1)\n",
        "        a2 = sigmoid(W_2 @ a1 + b_2)\n",
        "        a3 = sigmoid(W_3 @ a2 + b_3)\n",
        "\n",
        "        for j in range(4):\n",
        "            cost += np.power((a3[j, 0] - train_data[1][j, 0]), 2)\n",
        "\n",
        "    print(cost)\n",
        "    cost /= 100\n",
        "    total_costs.append(cost)\n"
      ],
      "execution_count": 57,
      "outputs": [
        {
          "output_type": "stream",
          "name": "stdout",
          "text": [
            "EPOCHS :  0\n",
            "909.9022062294101\n",
            "EPOCHS :  1\n",
            "432.53535653830863\n",
            "EPOCHS :  2\n",
            "10.728924856794457\n",
            "EPOCHS :  3\n",
            "5.974781374636026\n",
            "EPOCHS :  4\n",
            "3.958955565568569\n",
            "EPOCHS :  5\n",
            "2.8823231269056038\n",
            "EPOCHS :  6\n",
            "2.244289774871596\n",
            "EPOCHS :  7\n",
            "1.8295328747425292\n",
            "EPOCHS :  8\n",
            "1.5398453603640996\n",
            "EPOCHS :  9\n",
            "1.3265250372097082\n",
            "EPOCHS :  10\n",
            "1.163174351129536\n",
            "EPOCHS :  11\n",
            "1.034308099303847\n",
            "EPOCHS :  12\n",
            "0.9302329124549542\n",
            "EPOCHS :  13\n",
            "0.8445594205043385\n",
            "EPOCHS :  14\n",
            "0.7729004723783345\n",
            "EPOCHS :  15\n",
            "0.7121436520891223\n",
            "EPOCHS :  16\n",
            "0.6600212770210372\n",
            "EPOCHS :  17\n",
            "0.614844038533686\n",
            "EPOCHS :  18\n",
            "0.5753294716153631\n",
            "EPOCHS :  19\n",
            "0.5404878685354936\n"
          ]
        }
      ]
    },
    {
      "cell_type": "code",
      "metadata": {
        "colab": {
          "base_uri": "https://localhost:8080/",
          "height": 265
        },
        "id": "3yxUmeC7tq6W",
        "outputId": "db749572-3da3-42b2-df7d-2e94b678fd07"
      },
      "source": [
        "epoch_size = [x for x in range(epochs)]\n",
        "plt.plot(epoch_size, total_costs)\n",
        "plt.savefig('20_epoch_Vectorization.png')\n",
        "plt.show()"
      ],
      "execution_count": 59,
      "outputs": [
        {
          "output_type": "display_data",
          "data": {
            "image/png": "[encoded data removed]",
            "text/plain": [
              "<Figure size 432x288 with 1 Axes>"
            ]
          },
          "metadata": {
            "needs_background": "light"
          }
        }
      ]
    },
    {
      "cell_type": "code",
      "metadata": {
        "colab": {
          "base_uri": "https://localhost:8080/"
        },
        "id": "JIwRNpwWt43x",
        "outputId": "914eda38-e5c3-48c5-b108-454569a2399f"
      },
      "source": [
        "corrects = 0\n",
        "\n",
        "\n",
        "for i, x in enumerate(Xt):\n",
        "    A1 = sigmoid(W_1 @ x + b_1)\n",
        "    A2 = sigmoid(W_2 @ A1 + b_2)\n",
        "    out = sigmoid(W_3 @ A2 + b_3)\n",
        "    predicted_number = list(out).index(max(out))\n",
        "    real_number = list(Yt[i]).index(1)\n",
        "\n",
        "    if predicted_number == real_number:\n",
        "        corrects += 1\n",
        "accuracy = corrects / len(Xt)\n",
        "print(\"TEST Accuracy = \", accuracy)\n",
        "corrects = 0\n"
      ],
      "execution_count": 60,
      "outputs": [
        {
          "output_type": "stream",
          "name": "stdout",
          "text": [
            "TEST Accuracy =  1.0\n"
          ]
        }
      ]
    },
    {
      "cell_type": "code",
      "metadata": {
        "id": "GW9TO90ft8dI"
      },
      "source": [
        ""
      ],
      "execution_count": null,
      "outputs": []
    }
  ]
}